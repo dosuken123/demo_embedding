{
 "cells": [
  {
   "cell_type": "code",
   "execution_count": 13,
   "metadata": {},
   "outputs": [
    {
     "name": "stdout",
     "output_type": "stream",
     "text": [
      "sub: tensor([[1., 0., 0., 0., 0.]]) | output: tensor([0.7071])\n",
      "sub: tensor([[1., 1., 0., 0., 0.]]) | output: tensor([1.0000])\n",
      "sub: tensor([[1., 2., 0., 0., 0.]]) | output: tensor([0.9487])\n",
      "sub: tensor([[1., 1., 1., 0., 0.]]) | output: tensor([0.8165])\n",
      "sub: tensor([[1., 1., 1., 1., 0.]]) | output: tensor([0.7071])\n",
      "sub: tensor([[1., 1., 1., 1., 1.]]) | output: tensor([0.6325])\n"
     ]
    }
   ],
   "source": [
    "import torch\n",
    "import torch.nn as nn\n",
    "\n",
    "subject = torch.tensor([1, 1, 0, 0, 0], dtype=torch.float)[None, :]\n",
    "remotes = [\n",
    "    torch.tensor([1, 0, 0, 0, 0], dtype=torch.float)[None, :],\n",
    "    torch.tensor([1, 1, 0, 0, 0], dtype=torch.float)[None, :],\n",
    "    torch.tensor([1, 2, 0, 0, 0], dtype=torch.float)[None, :],\n",
    "    torch.tensor([1, 1, 1, 0, 0], dtype=torch.float)[None, :],\n",
    "    torch.tensor([1, 1, 1, 1, 0], dtype=torch.float)[None, :],\n",
    "    torch.tensor([1, 1, 1, 1, 1], dtype=torch.float)[None, :],\n",
    "]\n",
    "cos = nn.CosineSimilarity(dim=1, eps=1e-6)\n",
    "\n",
    "for r in remotes:\n",
    "    output = cos(subject, r)\n",
    "    print(f\"sub: {r} | output: {output}\")"
   ]
  },
  {
   "cell_type": "code",
   "execution_count": 15,
   "metadata": {},
   "outputs": [
    {
     "data": {
      "text/plain": [
       "tensor([-6.0065e-06,  2.9869e-03, -1.4267e-03,  2.0521e-03,  1.5944e-04,\n",
       "         2.8207e-04,  1.1857e-04, -2.4867e-03, -1.6174e-03,  9.9906e-05,\n",
       "        -5.2574e-03, -1.7497e-03,  1.4977e-03,  2.5855e-03, -6.1617e-03,\n",
       "         1.6107e-04,  5.3496e-03, -4.7165e-03,  5.2823e-03, -2.2317e-03,\n",
       "        -2.9556e-03, -7.0047e-05,  2.8330e-03,  3.9596e-03, -4.1936e-03,\n",
       "         2.8054e-03,  2.2624e-04,  2.0578e-03,  4.1305e-03, -5.9082e-04,\n",
       "         1.1482e-03,  1.0904e-03, -2.7534e-03, -1.0949e-03,  1.9816e-03,\n",
       "        -1.1015e-03,  2.9640e-03, -1.6486e-04, -3.5262e-03,  4.5319e-03,\n",
       "         1.9535e-03, -4.9531e-03, -3.9820e-03, -5.0247e-03,  3.0008e-04,\n",
       "        -1.5125e-03,  6.7455e-04,  6.6417e-04, -7.1196e-04,  3.0545e-03,\n",
       "         6.1673e-04,  2.7453e-03, -8.8705e-04, -1.5898e-04,  1.4365e-05,\n",
       "         5.0713e-04,  8.8031e-04,  1.2403e-03,  2.5071e-03,  2.0719e-03,\n",
       "        -2.1322e-03,  2.4205e-03,  3.7601e-04, -1.3822e-03,  2.6509e-03,\n",
       "        -1.4873e-03,  3.5513e-04, -5.9597e-04,  2.5643e-03,  1.8388e-03,\n",
       "        -4.7462e-03,  1.0128e-04, -9.2642e-04,  3.4721e-03,  1.0621e-02,\n",
       "        -5.0368e-03,  2.2176e-03,  1.4122e-03,  3.1297e-03,  1.1825e-03,\n",
       "        -7.3437e-03,  1.1157e-03,  5.2655e-04,  6.7478e-04,  1.7384e-04,\n",
       "         6.2296e-03, -3.0152e-03, -2.4626e-03,  2.3291e-03, -2.4983e-03,\n",
       "         6.7218e-03, -3.5609e-03,  7.7861e-04,  2.3470e-03,  5.2252e-04,\n",
       "        -9.7377e-04, -4.0124e-04,  4.8846e-03, -3.9725e-03, -3.3401e-03])"
      ]
     },
     "execution_count": 15,
     "metadata": {},
     "output_type": "execute_result"
    }
   ],
   "source": [
    "input1 = torch.randn(100, 98304)\n",
    "input2 = torch.randn(100, 98304)\n",
    "cos = nn.CosineSimilarity(dim=1, eps=1e-6)\n",
    "output = cos(input1, input2)\n",
    "output"
   ]
  },
  {
   "cell_type": "code",
   "execution_count": null,
   "metadata": {},
   "outputs": [],
   "source": []
  }
 ],
 "metadata": {
  "kernelspec": {
   "display_name": ".venv",
   "language": "python",
   "name": "python3"
  },
  "language_info": {
   "codemirror_mode": {
    "name": "ipython",
    "version": 3
   },
   "file_extension": ".py",
   "mimetype": "text/x-python",
   "name": "python",
   "nbconvert_exporter": "python",
   "pygments_lexer": "ipython3",
   "version": "3.10.13"
  }
 },
 "nbformat": 4,
 "nbformat_minor": 2
}
